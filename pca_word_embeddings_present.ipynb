{
 "cells": [
  {
   "cell_type": "markdown",
   "id": "40ec7316",
   "metadata": {},
   "source": [
    "# Are epistemic and moral virtues semantically distinct?"
   ]
  },
  {
   "cell_type": "markdown",
   "id": "0d12010e",
   "metadata": {},
   "source": [
    "I investigate whether moral and epistemic concepts are semantically distinct in ordinary language. Some philosophers argue that these concepts overlap considerably, while others maintain that they are fundamentally different. To empirically explore this issue, we employ word embeddings of moral and epistemic virtue terms to examine the contextual usage of these terms. The methodology involves calculating the cosine similarity between word embeddings, conducting clustering analyses, and performing statistical tests to assess the distinctiveness of these concepts.\n",
    "\n",
    "We first demonstrate that the methodology works by showing that words representing big-5 personality traits form distinct clusters. Then we apply the technique to moral and epistemic virtue words. We find two clearly distinct clusters. This shows that moral and epistemic virtues are semantically distinct."
   ]
  },
  {
   "cell_type": "code",
   "execution_count": 18,
   "id": "dafd47ba",
   "metadata": {},
   "outputs": [],
   "source": [
    "import openai\n",
    "import numpy as np\n",
    "import pandas as pd\n",
    "import os\n",
    "from sklearn.decomposition import PCA\n",
    "import matplotlib.pyplot as plt\n",
    "import seaborn as sns\n",
    "import plotly.express as px\n",
    "import nbformat\n",
    "from dotenv import load_dotenv\n",
    "from bokeh.plotting import figure, show, output_notebook\n",
    "from bokeh.models import ColumnDataSource, HoverTool\n",
    "from bokeh.io import push_notebook\n",
    "from bokeh.transform import factor_cmap\n",
    "from bokeh.palettes import Category10\n",
    "import ast"
   ]
  },
  {
   "cell_type": "code",
   "execution_count": 2,
   "id": "93e72248",
   "metadata": {},
   "outputs": [],
   "source": [
    "# Functions\n",
    "def get_embedding(word):\n",
    "    \"\"\"\n",
    "    Given a word, return its embedding using OpenAI API.\n",
    "    \"\"\"\n",
    "    response = openai.embeddings.create(\n",
    "        model=\"text-embedding-3-large\",\n",
    "        input=word\n",
    "    )\n",
    "    return response.data[0].embedding\n",
    "\n",
    "def apply_get_embedding(df, column_name):\n",
    "    \"\"\"\n",
    "    Apply get_embedding function to a column in a pandas dataframe row-wise.\n",
    "    \"\"\"\n",
    "    df['embedding'] = df[column_name].apply(get_embedding)\n",
    "    return df\n",
    "\n",
    "def extract_pca_loadings(df, embedding_column, n_components=2):\n",
    "    \"\"\"\n",
    "    Apply PCA to a column of word embeddings and add the PCA loadings to the dataframe.\n",
    "    \"\"\"\n",
    "    pca = PCA(n_components=n_components)\n",
    "    embeddings = np.array(df[embedding_column].tolist())\n",
    "    pca_loadings = pca.fit_transform(embeddings)\n",
    "    for i in range(n_components):\n",
    "        df[f'PCA_{i+1}'] = pca_loadings[:, i]\n",
    "    return df, pca\n",
    "\n",
    "def plot_pca(df, word_column, category_column, pca_columns):\n",
    "    \"\"\"\n",
    "    Create a 2D graph of the PCA loadings with words and categories.\n",
    "    \"\"\"\n",
    "    plt.figure(figsize=(12, 8))\n",
    "    sns.scatterplot(\n",
    "        x=df[pca_columns[0]], \n",
    "        y=df[pca_columns[1]], \n",
    "        hue=df[category_column], \n",
    "        palette='tab10', \n",
    "        s=100, \n",
    "        alpha=0.7,\n",
    "        legend='full'\n",
    "    )\n",
    "        \n",
    "    # Annotate each point with the word\n",
    "    #for i in range(df.shape[0]):\n",
    "    #    plt.text(df[pca_columns[0]].iloc[i], df[pca_columns[1]].iloc[i], df[word_column].iloc[i], \n",
    "    #             fontsize=9, alpha=0.9)\n",
    "    \n",
    "    plt.title('PCA of Word Embeddings')\n",
    "    plt.xlabel('PCA 1')\n",
    "    plt.ylabel('PCA 2')\n",
    "    plt.legend(title=category_column)\n",
    "    plt.grid(True)\n",
    "    plt.show()\n",
    "\n",
    "\n",
    "def plot_pca_interactive(df, word_column, category_column, pca_columns):\n",
    "    \"\"\"\n",
    "    Create an interactive 2D graph of the PCA loadings with words and categories using Bokeh.\n",
    "    \"\"\"\n",
    "    categories = df[category_column].unique().tolist()\n",
    "    num_categories = len(categories)\n",
    "    \n",
    "    if num_categories == 2:\n",
    "        palette = [\"#1f77b4\", \"#ff7f0e\"]  # Default colors for two categories\n",
    "    elif num_categories <= 10:\n",
    "        palette = Category10[num_categories]\n",
    "    else:\n",
    "        palette = Category20[num_categories]\n",
    "    \n",
    "    source = ColumnDataSource(data=dict(\n",
    "        x=df[pca_columns[0]],\n",
    "        y=df[pca_columns[1]],\n",
    "        word=df[word_column],\n",
    "        category=df[category_column]\n",
    "    ))\n",
    "\n",
    "    hover = HoverTool(tooltips=[\n",
    "        (\"Word\", \"@word\"),\n",
    "        (\"Category\", \"@category\"),\n",
    "    ])\n",
    "\n",
    "    p = figure(title=\"PCA of Word Embeddings\", tools=[hover, \"pan,wheel_zoom,box_zoom,reset\"])\n",
    "    p.scatter('x', 'y', source=source, legend_field='category', fill_alpha=0.6, size=10,\n",
    "              color=factor_cmap('category', palette=palette, factors=categories))\n",
    "    \n",
    "    p.xaxis.axis_label = \"PCA 1\"\n",
    "    p.yaxis.axis_label = \"PCA 2\"\n",
    "    p.legend.title = category_column\n",
    "    p.legend.location = \"top_left\"\n",
    "\n",
    "    output_notebook()\n",
    "    show(p, notebook_handle=True)\n"
   ]
  },
  {
   "cell_type": "markdown",
   "id": "d4e4b24a",
   "metadata": {},
   "source": [
    "## Big Five\n",
    "\n",
    "Let's begin with showing the methodology using words associated with the big five personality traits. I used GPT to create a database of 30 adjectives associated with each of the Big-five personality traits. Below is a sample of the dataset:"
   ]
  },
  {
   "cell_type": "code",
   "execution_count": 19,
   "id": "c84aa28f",
   "metadata": {},
   "outputs": [
    {
     "data": {
      "text/html": [
       "<div>\n",
       "<style scoped>\n",
       "    .dataframe tbody tr th:only-of-type {\n",
       "        vertical-align: middle;\n",
       "    }\n",
       "\n",
       "    .dataframe tbody tr th {\n",
       "        vertical-align: top;\n",
       "    }\n",
       "\n",
       "    .dataframe thead th {\n",
       "        text-align: right;\n",
       "    }\n",
       "</style>\n",
       "<table border=\"1\" class=\"dataframe\">\n",
       "  <thead>\n",
       "    <tr style=\"text-align: right;\">\n",
       "      <th></th>\n",
       "      <th>Adjective</th>\n",
       "      <th>Category</th>\n",
       "    </tr>\n",
       "  </thead>\n",
       "  <tbody>\n",
       "    <tr>\n",
       "      <th>0</th>\n",
       "      <td>creative</td>\n",
       "      <td>Openness to Experience</td>\n",
       "    </tr>\n",
       "    <tr>\n",
       "      <th>1</th>\n",
       "      <td>imaginative</td>\n",
       "      <td>Openness to Experience</td>\n",
       "    </tr>\n",
       "    <tr>\n",
       "      <th>30</th>\n",
       "      <td>organized</td>\n",
       "      <td>Conscientiousness</td>\n",
       "    </tr>\n",
       "    <tr>\n",
       "      <th>31</th>\n",
       "      <td>efficient</td>\n",
       "      <td>Conscientiousness</td>\n",
       "    </tr>\n",
       "    <tr>\n",
       "      <th>60</th>\n",
       "      <td>outgoing</td>\n",
       "      <td>Extraversion</td>\n",
       "    </tr>\n",
       "    <tr>\n",
       "      <th>61</th>\n",
       "      <td>sociable</td>\n",
       "      <td>Extraversion</td>\n",
       "    </tr>\n",
       "    <tr>\n",
       "      <th>90</th>\n",
       "      <td>friendly</td>\n",
       "      <td>Agreeableness</td>\n",
       "    </tr>\n",
       "    <tr>\n",
       "      <th>91</th>\n",
       "      <td>kind</td>\n",
       "      <td>Agreeableness</td>\n",
       "    </tr>\n",
       "    <tr>\n",
       "      <th>120</th>\n",
       "      <td>anxious</td>\n",
       "      <td>Neuroticism</td>\n",
       "    </tr>\n",
       "    <tr>\n",
       "      <th>121</th>\n",
       "      <td>fearful</td>\n",
       "      <td>Neuroticism</td>\n",
       "    </tr>\n",
       "  </tbody>\n",
       "</table>\n",
       "</div>"
      ],
      "text/plain": [
       "       Adjective                Category\n",
       "0       creative  Openness to Experience\n",
       "1    imaginative  Openness to Experience\n",
       "30     organized       Conscientiousness\n",
       "31     efficient       Conscientiousness\n",
       "60      outgoing            Extraversion\n",
       "61      sociable            Extraversion\n",
       "90      friendly           Agreeableness\n",
       "91          kind           Agreeableness\n",
       "120      anxious             Neuroticism\n",
       "121      fearful             Neuroticism"
      ]
     },
     "execution_count": 19,
     "metadata": {},
     "output_type": "execute_result"
    }
   ],
   "source": [
    "# Load the Big Six Adjectives dataset\n",
    "df_big_five = pd.read_csv('./big_five_adjectives.csv')\n",
    "df_big_five.groupby('Category').head(2)"
   ]
  },
  {
   "cell_type": "markdown",
   "id": "24315163",
   "metadata": {},
   "source": [
    "I use OpenAI to extract word embeddings for each of the words. Each word embedding is an array with 3072 dimensions. In the next step, I reduce dimensionality to 2 dimensions using principal component analysis. Below is an interactive plot of the embeddings. "
   ]
  },
  {
   "cell_type": "code",
   "execution_count": 8,
   "id": "9dbc4e15",
   "metadata": {},
   "outputs": [],
   "source": [
    "# Apply the embedding extraction\n",
    "#df = apply_get_embedding(df, 'Adjective')\n",
    "df = pd.read_csv(\"./big_five_cum_embeddings.csv\")\n",
    "df['embedding'] = df['embedding'].apply(ast.literal_eval)\n"
   ]
  },
  {
   "cell_type": "code",
   "execution_count": 23,
   "id": "7cd00fdc",
   "metadata": {},
   "outputs": [],
   "source": [
    "# Extract PCA loadings\n",
    "df, pca = extract_pca_loadings(df, 'embedding')"
   ]
  },
  {
   "cell_type": "code",
   "execution_count": 24,
   "id": "0fb1e2fa",
   "metadata": {},
   "outputs": [
    {
     "data": {
      "text/html": [
       "    <style>\n",
       "        .bk-notebook-logo {\n",
       "            display: block;\n",
       "            width: 20px;\n",
       "            height: 20px;\n",
       "            background-image: url(data:image/png;base64,iVBORw0KGgoAAAANSUhEUgAAABQAAAAUCAYAAACNiR0NAAAABHNCSVQICAgIfAhkiAAAAAlwSFlzAAALEgAACxIB0t1+/AAAABx0RVh0U29mdHdhcmUAQWRvYmUgRmlyZXdvcmtzIENTNui8sowAAAOkSURBVDiNjZRtaJVlGMd/1/08zzln5zjP1LWcU9N0NkN8m2CYjpgQYQXqSs0I84OLIC0hkEKoPtiH3gmKoiJDU7QpLgoLjLIQCpEsNJ1vqUOdO7ppbuec5+V+rj4ctwzd8IIbbi6u+8f1539dt3A78eXC7QizUF7gyV1fD1Yqg4JWz84yffhm0qkFqBogB9rM8tZdtwVsPUhWhGcFJngGeWrPzHm5oaMmkfEg1usvLFyc8jLRqDOMru7AyC8saQr7GG7f5fvDeH7Ej8CM66nIF+8yngt6HWaKh7k49Soy9nXurCi1o3qUbS3zWfrYeQDTB/Qj6kX6Ybhw4B+bOYoLKCC9H3Nu/leUTZ1JdRWkkn2ldcCamzrcf47KKXdAJllSlxAOkRgyHsGC/zRday5Qld9DyoM4/q/rUoy/CXh3jzOu3bHUVZeU+DEn8FInkPBFlu3+nW3Nw0mk6vCDiWg8CeJaxEwuHS3+z5RgY+YBR6V1Z1nxSOfoaPa4LASWxxdNp+VWTk7+4vzaou8v8PN+xo+KY2xsw6une2frhw05CTYOmQvsEhjhWjn0bmXPjpE1+kplmmkP3suftwTubK9Vq22qKmrBhpY4jvd5afdRA3wGjFAgcnTK2s4hY0/GPNIb0nErGMCRxWOOX64Z8RAC4oCXdklmEvcL8o0BfkNK4lUg9HTl+oPlQxdNo3Mg4Nv175e/1LDGzZen30MEjRUtmXSfiTVu1kK8W4txyV6BMKlbgk3lMwYCiusNy9fVfvvwMxv8Ynl6vxoByANLTWplvuj/nF9m2+PDtt1eiHPBr1oIfhCChQMBw6Aw0UulqTKZdfVvfG7VcfIqLG9bcldL/+pdWTLxLUy8Qq38heUIjh4XlzZxzQm19lLFlr8vdQ97rjZVOLf8nclzckbcD4wxXMidpX30sFd37Fv/GtwwhzhxGVAprjbg0gCAEeIgwCZyTV2Z1REEW8O4py0wsjeloKoMr6iCY6dP92H6Vw/oTyICIthibxjm/DfN9lVz8IqtqKYLUXfoKVMVQVVJOElGjrnnUt9T9wbgp8AyYKaGlqingHZU/uG2NTZSVqwHQTWkx9hxjkpWDaCg6Ckj5qebgBVbT3V3NNXMSiWSDdGV3hrtzla7J+duwPOToIg42ChPQOQjspnSlp1V+Gjdged7+8UN5CRAV7a5EdFNwCjEaBR27b3W890TE7g24NAP/mMDXRWrGoFPQI9ls/MWO2dWFAar/xcOIImbbpA3zgAAAABJRU5ErkJggg==);\n",
       "        }\n",
       "    </style>\n",
       "    <div>\n",
       "        <a href=\"https://bokeh.org\" target=\"_blank\" class=\"bk-notebook-logo\"></a>\n",
       "        <span id=\"c25d4f5f-a9f5-47e6-874e-667a7ab35b4f\">Loading BokehJS ...</span>\n",
       "    </div>\n"
      ]
     },
     "metadata": {},
     "output_type": "display_data"
    },
    {
     "data": {
      "application/javascript": "'use strict';\n(function(root) {\n  function now() {\n    return new Date();\n  }\n\n  const force = true;\n\n  if (typeof root._bokeh_onload_callbacks === \"undefined\" || force === true) {\n    root._bokeh_onload_callbacks = [];\n    root._bokeh_is_loading = undefined;\n  }\n\nconst JS_MIME_TYPE = 'application/javascript';\n  const HTML_MIME_TYPE = 'text/html';\n  const EXEC_MIME_TYPE = 'application/vnd.bokehjs_exec.v0+json';\n  const CLASS_NAME = 'output_bokeh rendered_html';\n\n  /**\n   * Render data to the DOM node\n   */\n  function render(props, node) {\n    const script = document.createElement(\"script\");\n    node.appendChild(script);\n  }\n\n  /**\n   * Handle when an output is cleared or removed\n   */\n  function handleClearOutput(event, handle) {\n    function drop(id) {\n      const view = Bokeh.index.get_by_id(id)\n      if (view != null) {\n        view.model.document.clear()\n        Bokeh.index.delete(view)\n      }\n    }\n\n    const cell = handle.cell;\n\n    const id = cell.output_area._bokeh_element_id;\n    const server_id = cell.output_area._bokeh_server_id;\n\n    // Clean up Bokeh references\n    if (id != null) {\n      drop(id)\n    }\n\n    if (server_id !== undefined) {\n      // Clean up Bokeh references\n      const cmd_clean = \"from bokeh.io.state import curstate; print(curstate().uuid_to_server['\" + server_id + \"'].get_sessions()[0].document.roots[0]._id)\";\n      cell.notebook.kernel.execute(cmd_clean, {\n        iopub: {\n          output: function(msg) {\n            const id = msg.content.text.trim()\n            drop(id)\n          }\n        }\n      });\n      // Destroy server and session\n      const cmd_destroy = \"import bokeh.io.notebook as ion; ion.destroy_server('\" + server_id + \"')\";\n      cell.notebook.kernel.execute(cmd_destroy);\n    }\n  }\n\n  /**\n   * Handle when a new output is added\n   */\n  function handleAddOutput(event, handle) {\n    const output_area = handle.output_area;\n    const output = handle.output;\n\n    // limit handleAddOutput to display_data with EXEC_MIME_TYPE content only\n    if ((output.output_type != \"display_data\") || (!Object.prototype.hasOwnProperty.call(output.data, EXEC_MIME_TYPE))) {\n      return\n    }\n\n    const toinsert = output_area.element.find(\".\" + CLASS_NAME.split(' ')[0]);\n\n    if (output.metadata[EXEC_MIME_TYPE][\"id\"] !== undefined) {\n      toinsert[toinsert.length - 1].firstChild.textContent = output.data[JS_MIME_TYPE];\n      // store reference to embed id on output_area\n      output_area._bokeh_element_id = output.metadata[EXEC_MIME_TYPE][\"id\"];\n    }\n    if (output.metadata[EXEC_MIME_TYPE][\"server_id\"] !== undefined) {\n      const bk_div = document.createElement(\"div\");\n      bk_div.innerHTML = output.data[HTML_MIME_TYPE];\n      const script_attrs = bk_div.children[0].attributes;\n      for (let i = 0; i < script_attrs.length; i++) {\n        toinsert[toinsert.length - 1].firstChild.setAttribute(script_attrs[i].name, script_attrs[i].value);\n        toinsert[toinsert.length - 1].firstChild.textContent = bk_div.children[0].textContent\n      }\n      // store reference to server id on output_area\n      output_area._bokeh_server_id = output.metadata[EXEC_MIME_TYPE][\"server_id\"];\n    }\n  }\n\n  function register_renderer(events, OutputArea) {\n\n    function append_mime(data, metadata, element) {\n      // create a DOM node to render to\n      const toinsert = this.create_output_subarea(\n        metadata,\n        CLASS_NAME,\n        EXEC_MIME_TYPE\n      );\n      this.keyboard_manager.register_events(toinsert);\n      // Render to node\n      const props = {data: data, metadata: metadata[EXEC_MIME_TYPE]};\n      render(props, toinsert[toinsert.length - 1]);\n      element.append(toinsert);\n      return toinsert\n    }\n\n    /* Handle when an output is cleared or removed */\n    events.on('clear_output.CodeCell', handleClearOutput);\n    events.on('delete.Cell', handleClearOutput);\n\n    /* Handle when a new output is added */\n    events.on('output_added.OutputArea', handleAddOutput);\n\n    /**\n     * Register the mime type and append_mime function with output_area\n     */\n    OutputArea.prototype.register_mime_type(EXEC_MIME_TYPE, append_mime, {\n      /* Is output safe? */\n      safe: true,\n      /* Index of renderer in `output_area.display_order` */\n      index: 0\n    });\n  }\n\n  // register the mime type if in Jupyter Notebook environment and previously unregistered\n  if (root.Jupyter !== undefined) {\n    const events = require('base/js/events');\n    const OutputArea = require('notebook/js/outputarea').OutputArea;\n\n    if (OutputArea.prototype.mime_types().indexOf(EXEC_MIME_TYPE) == -1) {\n      register_renderer(events, OutputArea);\n    }\n  }\n  if (typeof (root._bokeh_timeout) === \"undefined\" || force === true) {\n    root._bokeh_timeout = Date.now() + 5000;\n    root._bokeh_failed_load = false;\n  }\n\n  const NB_LOAD_WARNING = {'data': {'text/html':\n     \"<div style='background-color: #fdd'>\\n\"+\n     \"<p>\\n\"+\n     \"BokehJS does not appear to have successfully loaded. If loading BokehJS from CDN, this \\n\"+\n     \"may be due to a slow or bad network connection. Possible fixes:\\n\"+\n     \"</p>\\n\"+\n     \"<ul>\\n\"+\n     \"<li>re-rerun `output_notebook()` to attempt to load from CDN again, or</li>\\n\"+\n     \"<li>use INLINE resources instead, as so:</li>\\n\"+\n     \"</ul>\\n\"+\n     \"<code>\\n\"+\n     \"from bokeh.resources import INLINE\\n\"+\n     \"output_notebook(resources=INLINE)\\n\"+\n     \"</code>\\n\"+\n     \"</div>\"}};\n\n  function display_loaded(error = null) {\n    const el = document.getElementById(\"c25d4f5f-a9f5-47e6-874e-667a7ab35b4f\");\n    if (el != null) {\n      const html = (() => {\n        if (typeof root.Bokeh === \"undefined\") {\n          if (error == null) {\n            return \"BokehJS is loading ...\";\n          } else {\n            return \"BokehJS failed to load.\";\n          }\n        } else {\n          const prefix = `BokehJS ${root.Bokeh.version}`;\n          if (error == null) {\n            return `${prefix} successfully loaded.`;\n          } else {\n            return `${prefix} <b>encountered errors</b> while loading and may not function as expected.`;\n          }\n        }\n      })();\n      el.innerHTML = html;\n\n      if (error != null) {\n        const wrapper = document.createElement(\"div\");\n        wrapper.style.overflow = \"auto\";\n        wrapper.style.height = \"5em\";\n        wrapper.style.resize = \"vertical\";\n        const content = document.createElement(\"div\");\n        content.style.fontFamily = \"monospace\";\n        content.style.whiteSpace = \"pre-wrap\";\n        content.style.backgroundColor = \"rgb(255, 221, 221)\";\n        content.textContent = error.stack ?? error.toString();\n        wrapper.append(content);\n        el.append(wrapper);\n      }\n    } else if (Date.now() < root._bokeh_timeout) {\n      setTimeout(() => display_loaded(error), 100);\n    }\n  }\n\n  function run_callbacks() {\n    try {\n      root._bokeh_onload_callbacks.forEach(function(callback) {\n        if (callback != null)\n          callback();\n      });\n    } finally {\n      delete root._bokeh_onload_callbacks\n    }\n    console.debug(\"Bokeh: all callbacks have finished\");\n  }\n\n  function load_libs(css_urls, js_urls, callback) {\n    if (css_urls == null) css_urls = [];\n    if (js_urls == null) js_urls = [];\n\n    root._bokeh_onload_callbacks.push(callback);\n    if (root._bokeh_is_loading > 0) {\n      console.debug(\"Bokeh: BokehJS is being loaded, scheduling callback at\", now());\n      return null;\n    }\n    if (js_urls == null || js_urls.length === 0) {\n      run_callbacks();\n      return null;\n    }\n    console.debug(\"Bokeh: BokehJS not loaded, scheduling load and callback at\", now());\n    root._bokeh_is_loading = css_urls.length + js_urls.length;\n\n    function on_load() {\n      root._bokeh_is_loading--;\n      if (root._bokeh_is_loading === 0) {\n        console.debug(\"Bokeh: all BokehJS libraries/stylesheets loaded\");\n        run_callbacks()\n      }\n    }\n\n    function on_error(url) {\n      console.error(\"failed to load \" + url);\n    }\n\n    for (let i = 0; i < css_urls.length; i++) {\n      const url = css_urls[i];\n      const element = document.createElement(\"link\");\n      element.onload = on_load;\n      element.onerror = on_error.bind(null, url);\n      element.rel = \"stylesheet\";\n      element.type = \"text/css\";\n      element.href = url;\n      console.debug(\"Bokeh: injecting link tag for BokehJS stylesheet: \", url);\n      document.body.appendChild(element);\n    }\n\n    for (let i = 0; i < js_urls.length; i++) {\n      const url = js_urls[i];\n      const element = document.createElement('script');\n      element.onload = on_load;\n      element.onerror = on_error.bind(null, url);\n      element.async = false;\n      element.src = url;\n      console.debug(\"Bokeh: injecting script tag for BokehJS library: \", url);\n      document.head.appendChild(element);\n    }\n  };\n\n  function inject_raw_css(css) {\n    const element = document.createElement(\"style\");\n    element.appendChild(document.createTextNode(css));\n    document.body.appendChild(element);\n  }\n\n  const js_urls = [\"https://cdn.bokeh.org/bokeh/release/bokeh-3.4.2.min.js\", \"https://cdn.bokeh.org/bokeh/release/bokeh-gl-3.4.2.min.js\", \"https://cdn.bokeh.org/bokeh/release/bokeh-widgets-3.4.2.min.js\", \"https://cdn.bokeh.org/bokeh/release/bokeh-tables-3.4.2.min.js\", \"https://cdn.bokeh.org/bokeh/release/bokeh-mathjax-3.4.2.min.js\"];\n  const css_urls = [];\n\n  const inline_js = [    function(Bokeh) {\n      Bokeh.set_log_level(\"info\");\n    },\nfunction(Bokeh) {\n    }\n  ];\n\n  function run_inline_js() {\n    if (root.Bokeh !== undefined || force === true) {\n      try {\n            for (let i = 0; i < inline_js.length; i++) {\n      inline_js[i].call(root, root.Bokeh);\n    }\n\n      } catch (error) {display_loaded(error);throw error;\n      }if (force === true) {\n        display_loaded();\n      }} else if (Date.now() < root._bokeh_timeout) {\n      setTimeout(run_inline_js, 100);\n    } else if (!root._bokeh_failed_load) {\n      console.log(\"Bokeh: BokehJS failed to load within specified timeout.\");\n      root._bokeh_failed_load = true;\n    } else if (force !== true) {\n      const cell = $(document.getElementById(\"c25d4f5f-a9f5-47e6-874e-667a7ab35b4f\")).parents('.cell').data().cell;\n      cell.output_area.append_execute_result(NB_LOAD_WARNING)\n    }\n  }\n\n  if (root._bokeh_is_loading === 0) {\n    console.debug(\"Bokeh: BokehJS loaded, going straight to plotting\");\n    run_inline_js();\n  } else {\n    load_libs(css_urls, js_urls, function() {\n      console.debug(\"Bokeh: BokehJS plotting callback run at\", now());\n      run_inline_js();\n    });\n  }\n}(window));",
      "application/vnd.bokehjs_load.v0+json": ""
     },
     "metadata": {},
     "output_type": "display_data"
    },
    {
     "data": {
      "text/html": [
       "\n",
       "  <div id=\"ebcd3ea3-c9d7-4d42-8c88-3874e235fa5f\" data-root-id=\"p1105\" style=\"display: contents;\"></div>\n"
      ]
     },
     "metadata": {},
     "output_type": "display_data"
    },
    {
     "data": {
      "application/javascript": "(function(root) {\n  function embed_document(root) {\n  const docs_json = {\"ef62c6a3-5e42-45c9-ad79-1a025780da11\":{\"version\":\"3.4.2\",\"title\":\"Bokeh Application\",\"roots\":[{\"type\":\"object\",\"name\":\"Figure\",\"id\":\"p1105\",\"attributes\":{\"x_range\":{\"type\":\"object\",\"name\":\"DataRange1d\",\"id\":\"p1106\"},\"y_range\":{\"type\":\"object\",\"name\":\"DataRange1d\",\"id\":\"p1107\"},\"x_scale\":{\"type\":\"object\",\"name\":\"LinearScale\",\"id\":\"p1115\"},\"y_scale\":{\"type\":\"object\",\"name\":\"LinearScale\",\"id\":\"p1116\"},\"title\":{\"type\":\"object\",\"name\":\"Title\",\"id\":\"p1108\",\"attributes\":{\"text\":\"PCA of Word Embeddings\"}},\"renderers\":[{\"type\":\"object\",\"name\":\"GlyphRenderer\",\"id\":\"p1143\",\"attributes\":{\"data_source\":{\"type\":\"object\",\"name\":\"ColumnDataSource\",\"id\":\"p1101\",\"attributes\":{\"selected\":{\"type\":\"object\",\"name\":\"Selection\",\"id\":\"p1102\",\"attributes\":{\"indices\":[],\"line_indices\":[]}},\"selection_policy\":{\"type\":\"object\",\"name\":\"UnionRenderers\",\"id\":\"p1103\"},\"data\":{\"type\":\"map\",\"entries\":[[\"x\",{\"type\":\"ndarray\",\"array\":{\"type\":\"bytes\",\"data\":\"rBMCxtYcl78yZ0iq722Qv/D10Ncv7pM/JRedy4yugr9o+qrqwPS6P0wNmRqpgcK/Owx8vswfwb+AOacaWEpjP57T6b1WM6w/N0JmqgzypT/rte8jCtGyP+weiYp5mZE/ctFrLGHbkD95bocs+hrKP80leFpQ8KY/BX4+A6iCqj/sCpeaFceeP7huVZi9Upo/2NsbGxH/tT9NMe7AvjfDP7Xc6ox9k7a/y8LUSDRS0D+3wxe5HeCKv8JVMF06e3Q/+kE/uqZuxL//n/taDiDDP9rbjVKfJKa/66UG9m3ssT/Sjb0g4fOzP0k9MnSnRMQ/gSmF7dprsj9Fq0C3XB2EP06gVn2F07M/ZH1OTvcll795ngZuJiCzP8sIQ85YHrs/HZFEkCXrxj9eAnliCeR9v0Rmwk3aDss/ROgiUAhAzz9El3oxrPC6P+fBf2Dk+rI/+LYWjAp2nT/zx8H9tWi/P5YXjN1fkpo/OxtsC4spyD8aZq8m1Sa7P7Yu1IcPLcs/2QTkUu8QyT9lUeA9VGXHP1bpsLj4bMQ/8jLREJihtz9Hc8ejN7bJP8Y0Dj7P1cA/FEkAqHDzxj8U49BlKEiyPwBUsxKF8MY/twbP3ApcxD95IWv+bSSwP4C7VnA3NK0/UaxVSMKW0L/VkD8+O3jYv3rOYZoVxsS/p23/dvwy2L8Jn3x9XJO+vzlP1/au7se/MXS+HdqRf79MDZkaqYHCv2whca+LYrA/DrQj9vnMnz/qkRnM2pWmP2emj3XbgtS/P8W8nPyzy7/vTpy0yljQv1+LlgUIONa/P0MyiyA7y79giqZ2k+XLv6P371/TkYy/T2IQtMRxqb8G8G1OqbPFv+sxPzqzOtC/47NGGG53yb/sBMYsftvXv2bTgGg809K/Pup3R47d1b8cO7qBkmTGvzlHVwxvUcy//BtEUHEkqr9J6ymhIOF2v0drYgARNNi/Sog6aYU51r8zULIKfC68vxfFT1x4fMm/CPbWQnpg1b8p7CA8q4Kov5p95GylycC/3Ob90W+Xx7+JXbylzzmAP5rzxFGS6sK/H/OvXhXixL9CSm2Fyyenv8/olU7qNNu/OoZSrUX0nb9L2dNsNvbJv1ZJ51YkaK6/ETcc3jAAuT++z3Hwn1a+v0/C0l8/gtW/81reFQI83L8jXmb+jNLav1oYWAFq8ta/m+ZzdTSXsb+nupRSFoDTv9cO1N3fLMC/+Px/vEWS0L9HtZPjRdq1v17BusO6tsq/hU7ym6cQtr8fNesBU5Grv4eGEZryTtO/e3XO8e1OzD8x/3Q+w+jKP84rxiiBWMU/Ty+p2NtE0z8J+s6pB27QP8vC1Eg0UtA/P2RgRcnIxz9QabuW0RXNP3wrl1WD974/RWoheNXAwz912O5tOlPEP2g2o493r7Y//yMc2+xCzz9oG6tVhafTP5p5xskjA9E/3zwTJlCJyz/qNEFFKfbOP0YRQGsNJ9A/g+m7wgGcwT+4+TBhrSHVP/fHptnJjtI/2zk3HVieyz8wUeP5mazSP6uo96UVhco/UPXiiRWRzT+3lTJeSFvHP8HW23E14dM/F0ARQpMJxj/RERA5RZ7QP9X45byb/rc/\"},\"shape\":[150],\"dtype\":\"float64\",\"order\":\"little\"}],[\"y\",{\"type\":\"ndarray\",\"array\":{\"type\":\"bytes\",\"data\":\"DWKfVwUQsT8zr3/fXr+Zv4zZ+RrN9JC/nMvzjCTZsT8xiVCiJpvBP5GgNsjMIsK/ga420vfatD85BznrIoJzvzM9aW5SL7Y/e/h8Wxdftj9X5jk0SlusP2O6uFROQ6o/gEI63KKRsb8r9tdn3NmBvxgFj0RDSbE/yCOhmCi8pj+bURBsZOCSP1IGALH77tA/ykxEuQPkwj9/QpNmCu+oP/xcidcllK0/BSawPlF5tr/kKkeQIEl3v6IcYxTk8Z2/PSj6TMILsD+gc3qAU/OyP/nQB5aPQYk/E9h1hWHil7+qTAphFaKOPzVYECQDrrw/cmDoe4k4xz9cF7SflufQP5q1WprFCco/sC7SJW3Zxz84vbxiibLRP7NSkxC9K8w/tPXIEFDGyz/cxLmL6J3SP86G1uMH8tM/Lr4CJ6ov0D8yhu9YcOrRP5BABBBbftg/BSUeldg60j+UKQgnGRfOPzIOLfu+G8o/ssS/0b45sz8nhDPaBeiAP3Bk9Idkm9I/tILmm/Wb1j+c7p1xxwXQP61DJwwiEtI/QBXSb7a10T94yFAyqKu/P8A7yrwHq8A/zEfi8O4ixD88Y5U1F4LOP1LOcBy82LY/LAhPTAOzzT+gjptpChjSP/bwZ9PF0sQ/o5+tK0N6yb/SlDciNkHDv54lJ+ZQksi/sZIy80qOxb/qlOVOMfDGv9D3bMOreMG/c8AbhZAfo7+RoDbIzCLCv4w3SJAgBZq/qnpsWmcZgj/zImAU45mnvz+Y52DUAra/tq7qt2baxb94URft613Lv4rPyTjdDJQ/XSxETWBrxr+dNMmO9cLRv5F4CSnzw8K/DGn7Hchvwr+x04R/ye/Rvzzr9nvEU6C/SmaOetiw0L/F4myl91XIvwDYk0GNqNK/2vwMCWdc0L/7uisYW6TJv0y6IcQPWdG/xG2umpcLxb8FVoaee3nFv34KUWfij8W/2lji9Bb/kz+/1c+uVsvBP1y/gVKOtbK/dwgBxH0kwj+YEjdv9zDCv70+ncHlcME/5e/Ny5CBwz+IhFh2suOwP+2UewcPrrg/5mkEXzNmtT/ZZ2sb3kPVP5TilXvhqaq/x2fje1S4wT+GPVtoIH+7P1SaG21qg7c/dXdf647nwT8qbvqczarIP85N98FwMbc/7QoGbDcdib85VrPhtiKiv3Ul4Zuj2cM/KJtTSJibvT9RVCRqv2TKPxeUeSrfYMM/QRJGCX8szT9qnwO7TAy8P5kB8KAjnb0/vk8ZZpDhxj+YPWV2EXm6P7E2vTJQb8M/iQtNYhZP0L9CMspCJcvFv3EpwL7ubcy/msbShlhz079A5FwHX7nDvwUmsD5Reba/wLTpRYaj0r8cUc3qrrjCvyqWjeZ9vsy/U9IqDNeYur9NSVlJtwDUv4Gw7DEFINC/k9kVgUKaxL/ml9WIOJfCv/bppF+lgsy/w27wQGE8yL+A29QUPDDQv5pnvYSfdsu/t4ZVt3lL2L+UTmDEdDHSv2H7vutQlsm/Sp9VxQFixb9g2NNp/pHDv1tJbY0VrM6/s/uKnl1I0L+2+vEXVCnEv8VAhhirv8y/Zhi5OMKgxL9GAR/XDLLAv5zXoMcR3Mu/\"},\"shape\":[150],\"dtype\":\"float64\",\"order\":\"little\"}],[\"word\",{\"type\":\"ndarray\",\"array\":[\"creative\",\"imaginative\",\"curious\",\"inventive\",\"insightful\",\"adventurous\",\"open-minded\",\"artistic\",\"intellectual\",\"original\",\"progressive\",\"innovative\",\"unconventional\",\"introspective\",\"philosophical\",\"visionary\",\"aesthetic\",\"thoughtful\",\"perceptive\",\"reflective\",\"versatile\",\"sensitive\",\"idealistic\",\"nonconformist\",\"liberal\",\"deep\",\"flexible\",\"exploratory\",\"abstract\",\"analytic\",\"organized\",\"efficient\",\"responsible\",\"hard-working\",\"dependable\",\"punctual\",\"disciplined\",\"dutiful\",\"meticulous\",\"careful\",\"thorough\",\"diligent\",\"orderly\",\"reliable\",\"attentive\",\"persistent\",\"self-controlled\",\"systematic\",\"methodical\",\"deliberate\",\"conscientious\",\"prudent\",\"cautious\",\"persevering\",\"exact\",\"steadfast\",\"serious\",\"mindful\",\"assiduous\",\"committed\",\"outgoing\",\"sociable\",\"talkative\",\"gregarious\",\"energetic\",\"enthusiastic\",\"assertive\",\"adventurous\",\"bold\",\"active\",\"confident\",\"cheerful\",\"playful\",\"lively\",\"friendly\",\"charismatic\",\"extroverted\",\"expressive\",\"animated\",\"boisterous\",\"charming\",\"flirtatious\",\"fun-loving\",\"high-spirited\",\"vivacious\",\"spirited\",\"exuberant\",\"uninhibited\",\"brash\",\"gregarious\",\"friendly\",\"kind\",\"affectionate\",\"generous\",\"sympathetic\",\"compassionate\",\"cooperative\",\"trusting\",\"forgiving\",\"altruistic\",\"considerate\",\"good-natured\",\"modest\",\"unselfish\",\"humble\",\"patient\",\"helpful\",\"cordial\",\"amiable\",\"affable\",\"gracious\",\"tolerant\",\"benevolent\",\"gentle\",\"courteous\",\"peaceful\",\"accommodating\",\"civil\",\"meek\",\"charitable\",\"anxious\",\"fearful\",\"moody\",\"insecure\",\"self-conscious\",\"sensitive\",\"nervous\",\"tense\",\"emotional\",\"vulnerable\",\"irritable\",\"temperamental\",\"pessimistic\",\"worrying\",\"depressed\",\"guilt-prone\",\"unstable\",\"fretful\",\"high-strung\",\"stress-prone\",\"distressed\",\"apprehensive\",\"self-doubting\",\"touchy\",\"panicky\",\"melancholic\",\"hypersensitive\",\"self-pitying\",\"brooding\",\"impulsive\"],\"shape\":[150],\"dtype\":\"object\",\"order\":\"little\"}],[\"category\",{\"type\":\"ndarray\",\"array\":[\"Openness to Experience\",\"Openness to Experience\",\"Openness to Experience\",\"Openness to Experience\",\"Openness to Experience\",\"Openness to Experience\",\"Openness to Experience\",\"Openness to Experience\",\"Openness to Experience\",\"Openness to Experience\",\"Openness to Experience\",\"Openness to Experience\",\"Openness to Experience\",\"Openness to Experience\",\"Openness to Experience\",\"Openness to Experience\",\"Openness to Experience\",\"Openness to Experience\",\"Openness to Experience\",\"Openness to Experience\",\"Openness to Experience\",\"Openness to Experience\",\"Openness to Experience\",\"Openness to Experience\",\"Openness to Experience\",\"Openness to Experience\",\"Openness to Experience\",\"Openness to Experience\",\"Openness to Experience\",\"Openness to Experience\",\"Conscientiousness\",\"Conscientiousness\",\"Conscientiousness\",\"Conscientiousness\",\"Conscientiousness\",\"Conscientiousness\",\"Conscientiousness\",\"Conscientiousness\",\"Conscientiousness\",\"Conscientiousness\",\"Conscientiousness\",\"Conscientiousness\",\"Conscientiousness\",\"Conscientiousness\",\"Conscientiousness\",\"Conscientiousness\",\"Conscientiousness\",\"Conscientiousness\",\"Conscientiousness\",\"Conscientiousness\",\"Conscientiousness\",\"Conscientiousness\",\"Conscientiousness\",\"Conscientiousness\",\"Conscientiousness\",\"Conscientiousness\",\"Conscientiousness\",\"Conscientiousness\",\"Conscientiousness\",\"Conscientiousness\",\"Extraversion\",\"Extraversion\",\"Extraversion\",\"Extraversion\",\"Extraversion\",\"Extraversion\",\"Extraversion\",\"Extraversion\",\"Extraversion\",\"Extraversion\",\"Extraversion\",\"Extraversion\",\"Extraversion\",\"Extraversion\",\"Extraversion\",\"Extraversion\",\"Extraversion\",\"Extraversion\",\"Extraversion\",\"Extraversion\",\"Extraversion\",\"Extraversion\",\"Extraversion\",\"Extraversion\",\"Extraversion\",\"Extraversion\",\"Extraversion\",\"Extraversion\",\"Extraversion\",\"Extraversion\",\"Agreeableness\",\"Agreeableness\",\"Agreeableness\",\"Agreeableness\",\"Agreeableness\",\"Agreeableness\",\"Agreeableness\",\"Agreeableness\",\"Agreeableness\",\"Agreeableness\",\"Agreeableness\",\"Agreeableness\",\"Agreeableness\",\"Agreeableness\",\"Agreeableness\",\"Agreeableness\",\"Agreeableness\",\"Agreeableness\",\"Agreeableness\",\"Agreeableness\",\"Agreeableness\",\"Agreeableness\",\"Agreeableness\",\"Agreeableness\",\"Agreeableness\",\"Agreeableness\",\"Agreeableness\",\"Agreeableness\",\"Agreeableness\",\"Agreeableness\",\"Neuroticism\",\"Neuroticism\",\"Neuroticism\",\"Neuroticism\",\"Neuroticism\",\"Neuroticism\",\"Neuroticism\",\"Neuroticism\",\"Neuroticism\",\"Neuroticism\",\"Neuroticism\",\"Neuroticism\",\"Neuroticism\",\"Neuroticism\",\"Neuroticism\",\"Neuroticism\",\"Neuroticism\",\"Neuroticism\",\"Neuroticism\",\"Neuroticism\",\"Neuroticism\",\"Neuroticism\",\"Neuroticism\",\"Neuroticism\",\"Neuroticism\",\"Neuroticism\",\"Neuroticism\",\"Neuroticism\",\"Neuroticism\",\"Neuroticism\"],\"shape\":[150],\"dtype\":\"object\",\"order\":\"little\"}]]}}},\"view\":{\"type\":\"object\",\"name\":\"CDSView\",\"id\":\"p1144\",\"attributes\":{\"filter\":{\"type\":\"object\",\"name\":\"AllIndices\",\"id\":\"p1145\"}}},\"glyph\":{\"type\":\"object\",\"name\":\"Scatter\",\"id\":\"p1140\",\"attributes\":{\"x\":{\"type\":\"field\",\"field\":\"x\"},\"y\":{\"type\":\"field\",\"field\":\"y\"},\"size\":{\"type\":\"value\",\"value\":10},\"line_color\":{\"type\":\"field\",\"field\":\"category\",\"transform\":{\"type\":\"object\",\"name\":\"CategoricalColorMapper\",\"id\":\"p1136\",\"attributes\":{\"palette\":[\"#1f77b4\",\"#ff7f0e\",\"#2ca02c\",\"#d62728\",\"#9467bd\"],\"factors\":[\"Openness to Experience\",\"Conscientiousness\",\"Extraversion\",\"Agreeableness\",\"Neuroticism\"]}}},\"fill_color\":{\"type\":\"field\",\"field\":\"category\",\"transform\":{\"id\":\"p1136\"}},\"fill_alpha\":{\"type\":\"value\",\"value\":0.6},\"hatch_color\":{\"type\":\"field\",\"field\":\"category\",\"transform\":{\"id\":\"p1136\"}}}},\"nonselection_glyph\":{\"type\":\"object\",\"name\":\"Scatter\",\"id\":\"p1141\",\"attributes\":{\"x\":{\"type\":\"field\",\"field\":\"x\"},\"y\":{\"type\":\"field\",\"field\":\"y\"},\"size\":{\"type\":\"value\",\"value\":10},\"line_color\":{\"type\":\"field\",\"field\":\"category\",\"transform\":{\"id\":\"p1136\"}},\"line_alpha\":{\"type\":\"value\",\"value\":0.1},\"fill_color\":{\"type\":\"field\",\"field\":\"category\",\"transform\":{\"id\":\"p1136\"}},\"fill_alpha\":{\"type\":\"value\",\"value\":0.1},\"hatch_color\":{\"type\":\"field\",\"field\":\"category\",\"transform\":{\"id\":\"p1136\"}},\"hatch_alpha\":{\"type\":\"value\",\"value\":0.1}}},\"muted_glyph\":{\"type\":\"object\",\"name\":\"Scatter\",\"id\":\"p1142\",\"attributes\":{\"x\":{\"type\":\"field\",\"field\":\"x\"},\"y\":{\"type\":\"field\",\"field\":\"y\"},\"size\":{\"type\":\"value\",\"value\":10},\"line_color\":{\"type\":\"field\",\"field\":\"category\",\"transform\":{\"id\":\"p1136\"}},\"line_alpha\":{\"type\":\"value\",\"value\":0.2},\"fill_color\":{\"type\":\"field\",\"field\":\"category\",\"transform\":{\"id\":\"p1136\"}},\"fill_alpha\":{\"type\":\"value\",\"value\":0.2},\"hatch_color\":{\"type\":\"field\",\"field\":\"category\",\"transform\":{\"id\":\"p1136\"}},\"hatch_alpha\":{\"type\":\"value\",\"value\":0.2}}}}}],\"toolbar\":{\"type\":\"object\",\"name\":\"Toolbar\",\"id\":\"p1114\",\"attributes\":{\"tools\":[{\"type\":\"object\",\"name\":\"HoverTool\",\"id\":\"p1104\",\"attributes\":{\"renderers\":\"auto\",\"tooltips\":[[\"Word\",\"@word\"],[\"Category\",\"@category\"]]}},{\"type\":\"object\",\"name\":\"PanTool\",\"id\":\"p1127\"},{\"type\":\"object\",\"name\":\"WheelZoomTool\",\"id\":\"p1128\",\"attributes\":{\"renderers\":\"auto\"}},{\"type\":\"object\",\"name\":\"BoxZoomTool\",\"id\":\"p1129\",\"attributes\":{\"overlay\":{\"type\":\"object\",\"name\":\"BoxAnnotation\",\"id\":\"p1130\",\"attributes\":{\"syncable\":false,\"level\":\"overlay\",\"visible\":false,\"left\":{\"type\":\"number\",\"value\":\"nan\"},\"right\":{\"type\":\"number\",\"value\":\"nan\"},\"top\":{\"type\":\"number\",\"value\":\"nan\"},\"bottom\":{\"type\":\"number\",\"value\":\"nan\"},\"left_units\":\"canvas\",\"right_units\":\"canvas\",\"top_units\":\"canvas\",\"bottom_units\":\"canvas\",\"line_color\":\"black\",\"line_alpha\":1.0,\"line_width\":2,\"line_dash\":[4,4],\"fill_color\":\"lightgrey\",\"fill_alpha\":0.5}}}},{\"type\":\"object\",\"name\":\"ResetTool\",\"id\":\"p1135\"}]}},\"left\":[{\"type\":\"object\",\"name\":\"LinearAxis\",\"id\":\"p1122\",\"attributes\":{\"ticker\":{\"type\":\"object\",\"name\":\"BasicTicker\",\"id\":\"p1123\",\"attributes\":{\"mantissas\":[1,2,5]}},\"formatter\":{\"type\":\"object\",\"name\":\"BasicTickFormatter\",\"id\":\"p1124\"},\"axis_label\":\"PCA 2\",\"major_label_policy\":{\"type\":\"object\",\"name\":\"AllLabels\",\"id\":\"p1125\"}}}],\"below\":[{\"type\":\"object\",\"name\":\"LinearAxis\",\"id\":\"p1117\",\"attributes\":{\"ticker\":{\"type\":\"object\",\"name\":\"BasicTicker\",\"id\":\"p1118\",\"attributes\":{\"mantissas\":[1,2,5]}},\"formatter\":{\"type\":\"object\",\"name\":\"BasicTickFormatter\",\"id\":\"p1119\"},\"axis_label\":\"PCA 1\",\"major_label_policy\":{\"type\":\"object\",\"name\":\"AllLabels\",\"id\":\"p1120\"}}}],\"center\":[{\"type\":\"object\",\"name\":\"Grid\",\"id\":\"p1121\",\"attributes\":{\"axis\":{\"id\":\"p1117\"}}},{\"type\":\"object\",\"name\":\"Grid\",\"id\":\"p1126\",\"attributes\":{\"dimension\":1,\"axis\":{\"id\":\"p1122\"}}},{\"type\":\"object\",\"name\":\"Legend\",\"id\":\"p1146\",\"attributes\":{\"location\":\"top_left\",\"title\":\"Category\",\"items\":[{\"type\":\"object\",\"name\":\"LegendItem\",\"id\":\"p1147\",\"attributes\":{\"label\":{\"type\":\"field\",\"field\":\"category\"},\"renderers\":[{\"id\":\"p1143\"}]}}]}}]}}]}};\n  const render_items = [{\"docid\":\"ef62c6a3-5e42-45c9-ad79-1a025780da11\",\"roots\":{\"p1105\":\"ebcd3ea3-c9d7-4d42-8c88-3874e235fa5f\"},\"root_ids\":[\"p1105\"],\"notebook_comms_target\":\"p1148\"}];\n  void root.Bokeh.embed.embed_items_notebook(docs_json, render_items);\n  }\n  if (root.Bokeh !== undefined) {\n    embed_document(root);\n  } else {\n    let attempts = 0;\n    const timer = setInterval(function(root) {\n      if (root.Bokeh !== undefined) {\n        clearInterval(timer);\n        embed_document(root);\n      } else {\n        attempts++;\n        if (attempts > 100) {\n          clearInterval(timer);\n          console.log(\"Bokeh: ERROR: Unable to run BokehJS code because BokehJS library is missing\");\n        }\n      }\n    }, 10, root)\n  }\n})(window);",
      "application/vnd.bokehjs_exec.v0+json": ""
     },
     "metadata": {
      "application/vnd.bokehjs_exec.v0+json": {
       "id": "p1105"
      }
     },
     "output_type": "display_data"
    }
   ],
   "source": [
    "# Plot the PCA loadings\n",
    "plot_pca_interactive(df, 'Adjective', 'Category', ['PCA_1', 'PCA_2'])"
   ]
  },
  {
   "cell_type": "markdown",
   "id": "9175e3fc",
   "metadata": {},
   "source": [
    "The clusters are clearly visible, showing that the words associated with each of the Big-5 personality traits are indeed semantically distinct. This result can be made more precise by computing cosine similarities within and between word in different categories.  "
   ]
  },
  {
   "cell_type": "markdown",
   "id": "e8619b29",
   "metadata": {},
   "source": [
    "## "
   ]
  },
  {
   "cell_type": "markdown",
   "id": "4385b404",
   "metadata": {},
   "source": [
    "## Epistemic vs. Moral virtues \n",
    "\n",
    "Now we use the same methodology to investigate whether moral and epistemic virtues are semantically distinct. First, I asked GPT to constract a dataset with 50 adjectives associated with epistemic virtue, and 50 adjectives associated with moral virtue. Below is a sample: "
   ]
  },
  {
   "cell_type": "code",
   "execution_count": 26,
   "id": "223ff809",
   "metadata": {},
   "outputs": [
    {
     "data": {
      "text/html": [
       "<div>\n",
       "<style scoped>\n",
       "    .dataframe tbody tr th:only-of-type {\n",
       "        vertical-align: middle;\n",
       "    }\n",
       "\n",
       "    .dataframe tbody tr th {\n",
       "        vertical-align: top;\n",
       "    }\n",
       "\n",
       "    .dataframe thead th {\n",
       "        text-align: right;\n",
       "    }\n",
       "</style>\n",
       "<table border=\"1\" class=\"dataframe\">\n",
       "  <thead>\n",
       "    <tr style=\"text-align: right;\">\n",
       "      <th></th>\n",
       "      <th>Adjective</th>\n",
       "      <th>Category</th>\n",
       "    </tr>\n",
       "  </thead>\n",
       "  <tbody>\n",
       "    <tr>\n",
       "      <th>0</th>\n",
       "      <td>honest</td>\n",
       "      <td>Moral</td>\n",
       "    </tr>\n",
       "    <tr>\n",
       "      <th>1</th>\n",
       "      <td>kind</td>\n",
       "      <td>Moral</td>\n",
       "    </tr>\n",
       "    <tr>\n",
       "      <th>2</th>\n",
       "      <td>just</td>\n",
       "      <td>Moral</td>\n",
       "    </tr>\n",
       "    <tr>\n",
       "      <th>3</th>\n",
       "      <td>brave</td>\n",
       "      <td>Moral</td>\n",
       "    </tr>\n",
       "    <tr>\n",
       "      <th>4</th>\n",
       "      <td>compassionate</td>\n",
       "      <td>Moral</td>\n",
       "    </tr>\n",
       "    <tr>\n",
       "      <th>5</th>\n",
       "      <td>humble</td>\n",
       "      <td>Moral</td>\n",
       "    </tr>\n",
       "    <tr>\n",
       "      <th>6</th>\n",
       "      <td>loyal</td>\n",
       "      <td>Moral</td>\n",
       "    </tr>\n",
       "    <tr>\n",
       "      <th>7</th>\n",
       "      <td>generous</td>\n",
       "      <td>Moral</td>\n",
       "    </tr>\n",
       "    <tr>\n",
       "      <th>8</th>\n",
       "      <td>fair</td>\n",
       "      <td>Moral</td>\n",
       "    </tr>\n",
       "    <tr>\n",
       "      <th>9</th>\n",
       "      <td>benevolent</td>\n",
       "      <td>Moral</td>\n",
       "    </tr>\n",
       "    <tr>\n",
       "      <th>49</th>\n",
       "      <td>knowledgeable</td>\n",
       "      <td>Epistemic</td>\n",
       "    </tr>\n",
       "    <tr>\n",
       "      <th>50</th>\n",
       "      <td>curious</td>\n",
       "      <td>Epistemic</td>\n",
       "    </tr>\n",
       "    <tr>\n",
       "      <th>51</th>\n",
       "      <td>rational</td>\n",
       "      <td>Epistemic</td>\n",
       "    </tr>\n",
       "    <tr>\n",
       "      <th>52</th>\n",
       "      <td>inquisitive</td>\n",
       "      <td>Epistemic</td>\n",
       "    </tr>\n",
       "    <tr>\n",
       "      <th>53</th>\n",
       "      <td>thoughtful</td>\n",
       "      <td>Epistemic</td>\n",
       "    </tr>\n",
       "    <tr>\n",
       "      <th>54</th>\n",
       "      <td>perceptive</td>\n",
       "      <td>Epistemic</td>\n",
       "    </tr>\n",
       "    <tr>\n",
       "      <th>55</th>\n",
       "      <td>insightful</td>\n",
       "      <td>Epistemic</td>\n",
       "    </tr>\n",
       "    <tr>\n",
       "      <th>56</th>\n",
       "      <td>analytic</td>\n",
       "      <td>Epistemic</td>\n",
       "    </tr>\n",
       "    <tr>\n",
       "      <th>57</th>\n",
       "      <td>logical</td>\n",
       "      <td>Epistemic</td>\n",
       "    </tr>\n",
       "    <tr>\n",
       "      <th>58</th>\n",
       "      <td>critical</td>\n",
       "      <td>Epistemic</td>\n",
       "    </tr>\n",
       "  </tbody>\n",
       "</table>\n",
       "</div>"
      ],
      "text/plain": [
       "        Adjective   Category\n",
       "0          honest      Moral\n",
       "1            kind      Moral\n",
       "2            just      Moral\n",
       "3           brave      Moral\n",
       "4   compassionate      Moral\n",
       "5          humble      Moral\n",
       "6           loyal      Moral\n",
       "7        generous      Moral\n",
       "8            fair      Moral\n",
       "9      benevolent      Moral\n",
       "49  knowledgeable  Epistemic\n",
       "50        curious  Epistemic\n",
       "51       rational  Epistemic\n",
       "52    inquisitive  Epistemic\n",
       "53     thoughtful  Epistemic\n",
       "54     perceptive  Epistemic\n",
       "55     insightful  Epistemic\n",
       "56       analytic  Epistemic\n",
       "57        logical  Epistemic\n",
       "58       critical  Epistemic"
      ]
     },
     "execution_count": 26,
     "metadata": {},
     "output_type": "execute_result"
    }
   ],
   "source": [
    "# Load the Big Six Adjectives dataset\n",
    "df_moral_epistemic = pd.read_csv('./moral_epistemic_adjectives.csv')\n",
    "df_moral_epistemic.groupby('Category').head(10)"
   ]
  },
  {
   "cell_type": "markdown",
   "id": "f81eca34",
   "metadata": {},
   "source": [
    "Following the same process of extracting word embeddings, reducing dimensionality via PCA, and plotting the results, we arrive at the following graph:"
   ]
  },
  {
   "cell_type": "code",
   "execution_count": 27,
   "id": "68f5dba2",
   "metadata": {},
   "outputs": [],
   "source": [
    "# Apply the embedding extraction\n",
    "#df2 = apply_get_embedding(df2, 'Adjective')\n",
    "df2 = pd.read_csv('./moral_epistemic_cum_embeddings.csv')\n",
    "df2['embedding'] = df2['embedding'].apply(ast.literal_eval)\n"
   ]
  },
  {
   "cell_type": "code",
   "execution_count": 28,
   "id": "c298a08b",
   "metadata": {},
   "outputs": [],
   "source": [
    "# Extract PCA loadings\n",
    "df2, pca2 = extract_pca_loadings(df2, 'embedding')"
   ]
  },
  {
   "cell_type": "code",
   "execution_count": 29,
   "id": "f7a0d976",
   "metadata": {},
   "outputs": [
    {
     "data": {
      "text/html": [
       "    <style>\n",
       "        .bk-notebook-logo {\n",
       "            display: block;\n",
       "            width: 20px;\n",
       "            height: 20px;\n",
       "            background-image: url(data:image/png;base64,iVBORw0KGgoAAAANSUhEUgAAABQAAAAUCAYAAACNiR0NAAAABHNCSVQICAgIfAhkiAAAAAlwSFlzAAALEgAACxIB0t1+/AAAABx0RVh0U29mdHdhcmUAQWRvYmUgRmlyZXdvcmtzIENTNui8sowAAAOkSURBVDiNjZRtaJVlGMd/1/08zzln5zjP1LWcU9N0NkN8m2CYjpgQYQXqSs0I84OLIC0hkEKoPtiH3gmKoiJDU7QpLgoLjLIQCpEsNJ1vqUOdO7ppbuec5+V+rj4ctwzd8IIbbi6u+8f1539dt3A78eXC7QizUF7gyV1fD1Yqg4JWz84yffhm0qkFqBogB9rM8tZdtwVsPUhWhGcFJngGeWrPzHm5oaMmkfEg1usvLFyc8jLRqDOMru7AyC8saQr7GG7f5fvDeH7Ej8CM66nIF+8yngt6HWaKh7k49Soy9nXurCi1o3qUbS3zWfrYeQDTB/Qj6kX6Ybhw4B+bOYoLKCC9H3Nu/leUTZ1JdRWkkn2ldcCamzrcf47KKXdAJllSlxAOkRgyHsGC/zRday5Qld9DyoM4/q/rUoy/CXh3jzOu3bHUVZeU+DEn8FInkPBFlu3+nW3Nw0mk6vCDiWg8CeJaxEwuHS3+z5RgY+YBR6V1Z1nxSOfoaPa4LASWxxdNp+VWTk7+4vzaou8v8PN+xo+KY2xsw6une2frhw05CTYOmQvsEhjhWjn0bmXPjpE1+kplmmkP3suftwTubK9Vq22qKmrBhpY4jvd5afdRA3wGjFAgcnTK2s4hY0/GPNIb0nErGMCRxWOOX64Z8RAC4oCXdklmEvcL8o0BfkNK4lUg9HTl+oPlQxdNo3Mg4Nv175e/1LDGzZen30MEjRUtmXSfiTVu1kK8W4txyV6BMKlbgk3lMwYCiusNy9fVfvvwMxv8Ynl6vxoByANLTWplvuj/nF9m2+PDtt1eiHPBr1oIfhCChQMBw6Aw0UulqTKZdfVvfG7VcfIqLG9bcldL/+pdWTLxLUy8Qq38heUIjh4XlzZxzQm19lLFlr8vdQ97rjZVOLf8nclzckbcD4wxXMidpX30sFd37Fv/GtwwhzhxGVAprjbg0gCAEeIgwCZyTV2Z1REEW8O4py0wsjeloKoMr6iCY6dP92H6Vw/oTyICIthibxjm/DfN9lVz8IqtqKYLUXfoKVMVQVVJOElGjrnnUt9T9wbgp8AyYKaGlqingHZU/uG2NTZSVqwHQTWkx9hxjkpWDaCg6Ckj5qebgBVbT3V3NNXMSiWSDdGV3hrtzla7J+duwPOToIg42ChPQOQjspnSlp1V+Gjdged7+8UN5CRAV7a5EdFNwCjEaBR27b3W890TE7g24NAP/mMDXRWrGoFPQI9ls/MWO2dWFAar/xcOIImbbpA3zgAAAABJRU5ErkJggg==);\n",
       "        }\n",
       "    </style>\n",
       "    <div>\n",
       "        <a href=\"https://bokeh.org\" target=\"_blank\" class=\"bk-notebook-logo\"></a>\n",
       "        <span id=\"a8e95a72-4776-44cb-9f93-7f0272b1df2d\">Loading BokehJS ...</span>\n",
       "    </div>\n"
      ]
     },
     "metadata": {},
     "output_type": "display_data"
    },
    {
     "data": {
      "application/javascript": "'use strict';\n(function(root) {\n  function now() {\n    return new Date();\n  }\n\n  const force = true;\n\n  if (typeof root._bokeh_onload_callbacks === \"undefined\" || force === true) {\n    root._bokeh_onload_callbacks = [];\n    root._bokeh_is_loading = undefined;\n  }\n\nconst JS_MIME_TYPE = 'application/javascript';\n  const HTML_MIME_TYPE = 'text/html';\n  const EXEC_MIME_TYPE = 'application/vnd.bokehjs_exec.v0+json';\n  const CLASS_NAME = 'output_bokeh rendered_html';\n\n  /**\n   * Render data to the DOM node\n   */\n  function render(props, node) {\n    const script = document.createElement(\"script\");\n    node.appendChild(script);\n  }\n\n  /**\n   * Handle when an output is cleared or removed\n   */\n  function handleClearOutput(event, handle) {\n    function drop(id) {\n      const view = Bokeh.index.get_by_id(id)\n      if (view != null) {\n        view.model.document.clear()\n        Bokeh.index.delete(view)\n      }\n    }\n\n    const cell = handle.cell;\n\n    const id = cell.output_area._bokeh_element_id;\n    const server_id = cell.output_area._bokeh_server_id;\n\n    // Clean up Bokeh references\n    if (id != null) {\n      drop(id)\n    }\n\n    if (server_id !== undefined) {\n      // Clean up Bokeh references\n      const cmd_clean = \"from bokeh.io.state import curstate; print(curstate().uuid_to_server['\" + server_id + \"'].get_sessions()[0].document.roots[0]._id)\";\n      cell.notebook.kernel.execute(cmd_clean, {\n        iopub: {\n          output: function(msg) {\n            const id = msg.content.text.trim()\n            drop(id)\n          }\n        }\n      });\n      // Destroy server and session\n      const cmd_destroy = \"import bokeh.io.notebook as ion; ion.destroy_server('\" + server_id + \"')\";\n      cell.notebook.kernel.execute(cmd_destroy);\n    }\n  }\n\n  /**\n   * Handle when a new output is added\n   */\n  function handleAddOutput(event, handle) {\n    const output_area = handle.output_area;\n    const output = handle.output;\n\n    // limit handleAddOutput to display_data with EXEC_MIME_TYPE content only\n    if ((output.output_type != \"display_data\") || (!Object.prototype.hasOwnProperty.call(output.data, EXEC_MIME_TYPE))) {\n      return\n    }\n\n    const toinsert = output_area.element.find(\".\" + CLASS_NAME.split(' ')[0]);\n\n    if (output.metadata[EXEC_MIME_TYPE][\"id\"] !== undefined) {\n      toinsert[toinsert.length - 1].firstChild.textContent = output.data[JS_MIME_TYPE];\n      // store reference to embed id on output_area\n      output_area._bokeh_element_id = output.metadata[EXEC_MIME_TYPE][\"id\"];\n    }\n    if (output.metadata[EXEC_MIME_TYPE][\"server_id\"] !== undefined) {\n      const bk_div = document.createElement(\"div\");\n      bk_div.innerHTML = output.data[HTML_MIME_TYPE];\n      const script_attrs = bk_div.children[0].attributes;\n      for (let i = 0; i < script_attrs.length; i++) {\n        toinsert[toinsert.length - 1].firstChild.setAttribute(script_attrs[i].name, script_attrs[i].value);\n        toinsert[toinsert.length - 1].firstChild.textContent = bk_div.children[0].textContent\n      }\n      // store reference to server id on output_area\n      output_area._bokeh_server_id = output.metadata[EXEC_MIME_TYPE][\"server_id\"];\n    }\n  }\n\n  function register_renderer(events, OutputArea) {\n\n    function append_mime(data, metadata, element) {\n      // create a DOM node to render to\n      const toinsert = this.create_output_subarea(\n        metadata,\n        CLASS_NAME,\n        EXEC_MIME_TYPE\n      );\n      this.keyboard_manager.register_events(toinsert);\n      // Render to node\n      const props = {data: data, metadata: metadata[EXEC_MIME_TYPE]};\n      render(props, toinsert[toinsert.length - 1]);\n      element.append(toinsert);\n      return toinsert\n    }\n\n    /* Handle when an output is cleared or removed */\n    events.on('clear_output.CodeCell', handleClearOutput);\n    events.on('delete.Cell', handleClearOutput);\n\n    /* Handle when a new output is added */\n    events.on('output_added.OutputArea', handleAddOutput);\n\n    /**\n     * Register the mime type and append_mime function with output_area\n     */\n    OutputArea.prototype.register_mime_type(EXEC_MIME_TYPE, append_mime, {\n      /* Is output safe? */\n      safe: true,\n      /* Index of renderer in `output_area.display_order` */\n      index: 0\n    });\n  }\n\n  // register the mime type if in Jupyter Notebook environment and previously unregistered\n  if (root.Jupyter !== undefined) {\n    const events = require('base/js/events');\n    const OutputArea = require('notebook/js/outputarea').OutputArea;\n\n    if (OutputArea.prototype.mime_types().indexOf(EXEC_MIME_TYPE) == -1) {\n      register_renderer(events, OutputArea);\n    }\n  }\n  if (typeof (root._bokeh_timeout) === \"undefined\" || force === true) {\n    root._bokeh_timeout = Date.now() + 5000;\n    root._bokeh_failed_load = false;\n  }\n\n  const NB_LOAD_WARNING = {'data': {'text/html':\n     \"<div style='background-color: #fdd'>\\n\"+\n     \"<p>\\n\"+\n     \"BokehJS does not appear to have successfully loaded. If loading BokehJS from CDN, this \\n\"+\n     \"may be due to a slow or bad network connection. Possible fixes:\\n\"+\n     \"</p>\\n\"+\n     \"<ul>\\n\"+\n     \"<li>re-rerun `output_notebook()` to attempt to load from CDN again, or</li>\\n\"+\n     \"<li>use INLINE resources instead, as so:</li>\\n\"+\n     \"</ul>\\n\"+\n     \"<code>\\n\"+\n     \"from bokeh.resources import INLINE\\n\"+\n     \"output_notebook(resources=INLINE)\\n\"+\n     \"</code>\\n\"+\n     \"</div>\"}};\n\n  function display_loaded(error = null) {\n    const el = document.getElementById(\"a8e95a72-4776-44cb-9f93-7f0272b1df2d\");\n    if (el != null) {\n      const html = (() => {\n        if (typeof root.Bokeh === \"undefined\") {\n          if (error == null) {\n            return \"BokehJS is loading ...\";\n          } else {\n            return \"BokehJS failed to load.\";\n          }\n        } else {\n          const prefix = `BokehJS ${root.Bokeh.version}`;\n          if (error == null) {\n            return `${prefix} successfully loaded.`;\n          } else {\n            return `${prefix} <b>encountered errors</b> while loading and may not function as expected.`;\n          }\n        }\n      })();\n      el.innerHTML = html;\n\n      if (error != null) {\n        const wrapper = document.createElement(\"div\");\n        wrapper.style.overflow = \"auto\";\n        wrapper.style.height = \"5em\";\n        wrapper.style.resize = \"vertical\";\n        const content = document.createElement(\"div\");\n        content.style.fontFamily = \"monospace\";\n        content.style.whiteSpace = \"pre-wrap\";\n        content.style.backgroundColor = \"rgb(255, 221, 221)\";\n        content.textContent = error.stack ?? error.toString();\n        wrapper.append(content);\n        el.append(wrapper);\n      }\n    } else if (Date.now() < root._bokeh_timeout) {\n      setTimeout(() => display_loaded(error), 100);\n    }\n  }\n\n  function run_callbacks() {\n    try {\n      root._bokeh_onload_callbacks.forEach(function(callback) {\n        if (callback != null)\n          callback();\n      });\n    } finally {\n      delete root._bokeh_onload_callbacks\n    }\n    console.debug(\"Bokeh: all callbacks have finished\");\n  }\n\n  function load_libs(css_urls, js_urls, callback) {\n    if (css_urls == null) css_urls = [];\n    if (js_urls == null) js_urls = [];\n\n    root._bokeh_onload_callbacks.push(callback);\n    if (root._bokeh_is_loading > 0) {\n      console.debug(\"Bokeh: BokehJS is being loaded, scheduling callback at\", now());\n      return null;\n    }\n    if (js_urls == null || js_urls.length === 0) {\n      run_callbacks();\n      return null;\n    }\n    console.debug(\"Bokeh: BokehJS not loaded, scheduling load and callback at\", now());\n    root._bokeh_is_loading = css_urls.length + js_urls.length;\n\n    function on_load() {\n      root._bokeh_is_loading--;\n      if (root._bokeh_is_loading === 0) {\n        console.debug(\"Bokeh: all BokehJS libraries/stylesheets loaded\");\n        run_callbacks()\n      }\n    }\n\n    function on_error(url) {\n      console.error(\"failed to load \" + url);\n    }\n\n    for (let i = 0; i < css_urls.length; i++) {\n      const url = css_urls[i];\n      const element = document.createElement(\"link\");\n      element.onload = on_load;\n      element.onerror = on_error.bind(null, url);\n      element.rel = \"stylesheet\";\n      element.type = \"text/css\";\n      element.href = url;\n      console.debug(\"Bokeh: injecting link tag for BokehJS stylesheet: \", url);\n      document.body.appendChild(element);\n    }\n\n    for (let i = 0; i < js_urls.length; i++) {\n      const url = js_urls[i];\n      const element = document.createElement('script');\n      element.onload = on_load;\n      element.onerror = on_error.bind(null, url);\n      element.async = false;\n      element.src = url;\n      console.debug(\"Bokeh: injecting script tag for BokehJS library: \", url);\n      document.head.appendChild(element);\n    }\n  };\n\n  function inject_raw_css(css) {\n    const element = document.createElement(\"style\");\n    element.appendChild(document.createTextNode(css));\n    document.body.appendChild(element);\n  }\n\n  const js_urls = [\"https://cdn.bokeh.org/bokeh/release/bokeh-3.4.2.min.js\", \"https://cdn.bokeh.org/bokeh/release/bokeh-gl-3.4.2.min.js\", \"https://cdn.bokeh.org/bokeh/release/bokeh-widgets-3.4.2.min.js\", \"https://cdn.bokeh.org/bokeh/release/bokeh-tables-3.4.2.min.js\", \"https://cdn.bokeh.org/bokeh/release/bokeh-mathjax-3.4.2.min.js\"];\n  const css_urls = [];\n\n  const inline_js = [    function(Bokeh) {\n      Bokeh.set_log_level(\"info\");\n    },\nfunction(Bokeh) {\n    }\n  ];\n\n  function run_inline_js() {\n    if (root.Bokeh !== undefined || force === true) {\n      try {\n            for (let i = 0; i < inline_js.length; i++) {\n      inline_js[i].call(root, root.Bokeh);\n    }\n\n      } catch (error) {display_loaded(error);throw error;\n      }if (force === true) {\n        display_loaded();\n      }} else if (Date.now() < root._bokeh_timeout) {\n      setTimeout(run_inline_js, 100);\n    } else if (!root._bokeh_failed_load) {\n      console.log(\"Bokeh: BokehJS failed to load within specified timeout.\");\n      root._bokeh_failed_load = true;\n    } else if (force !== true) {\n      const cell = $(document.getElementById(\"a8e95a72-4776-44cb-9f93-7f0272b1df2d\")).parents('.cell').data().cell;\n      cell.output_area.append_execute_result(NB_LOAD_WARNING)\n    }\n  }\n\n  if (root._bokeh_is_loading === 0) {\n    console.debug(\"Bokeh: BokehJS loaded, going straight to plotting\");\n    run_inline_js();\n  } else {\n    load_libs(css_urls, js_urls, function() {\n      console.debug(\"Bokeh: BokehJS plotting callback run at\", now());\n      run_inline_js();\n    });\n  }\n}(window));",
      "application/vnd.bokehjs_load.v0+json": ""
     },
     "metadata": {},
     "output_type": "display_data"
    },
    {
     "data": {
      "text/html": [
       "\n",
       "  <div id=\"be841e66-311d-4618-adc1-1dc72f7979d5\" data-root-id=\"p1155\" style=\"display: contents;\"></div>\n"
      ]
     },
     "metadata": {},
     "output_type": "display_data"
    },
    {
     "data": {
      "application/javascript": "(function(root) {\n  function embed_document(root) {\n  const docs_json = {\"7224fdd3-d32c-483e-99f0-0dd62345cb9e\":{\"version\":\"3.4.2\",\"title\":\"Bokeh Application\",\"roots\":[{\"type\":\"object\",\"name\":\"Figure\",\"id\":\"p1155\",\"attributes\":{\"x_range\":{\"type\":\"object\",\"name\":\"DataRange1d\",\"id\":\"p1156\"},\"y_range\":{\"type\":\"object\",\"name\":\"DataRange1d\",\"id\":\"p1157\"},\"x_scale\":{\"type\":\"object\",\"name\":\"LinearScale\",\"id\":\"p1165\"},\"y_scale\":{\"type\":\"object\",\"name\":\"LinearScale\",\"id\":\"p1166\"},\"title\":{\"type\":\"object\",\"name\":\"Title\",\"id\":\"p1158\",\"attributes\":{\"text\":\"PCA of Word Embeddings\"}},\"renderers\":[{\"type\":\"object\",\"name\":\"GlyphRenderer\",\"id\":\"p1193\",\"attributes\":{\"data_source\":{\"type\":\"object\",\"name\":\"ColumnDataSource\",\"id\":\"p1151\",\"attributes\":{\"selected\":{\"type\":\"object\",\"name\":\"Selection\",\"id\":\"p1152\",\"attributes\":{\"indices\":[],\"line_indices\":[]}},\"selection_policy\":{\"type\":\"object\",\"name\":\"UnionRenderers\",\"id\":\"p1153\"},\"data\":{\"type\":\"map\",\"entries\":[[\"x\",{\"type\":\"ndarray\",\"array\":{\"type\":\"bytes\",\"data\":\"r9RcuFcRwb+PDtxpjVm+v08PYm/0YJe/798CBTGWz79qQ68UyInQvxjnJVRzks6/MFSImN8Z0L+S4GfG7E/Xv/2H1cCQCJE/YYYKR88R1b/al20Mk9fOv6uSXtN6tsu/IQa2PZiJ07+k7uiIDJzWv4ycSt8oHtS/cqwqz34g1L/BM7imQVO6vys5RIpRi5M/3GobUewx0r8hIQgBN9nTv4f/S9psKM6/+jna/Cwqp7+lFRs5pn+1v8iCwflI29O/eJs/+x2xUj/Q7QIPwa3Av86JOGvL2dq/wyCPGzoo0L+cezLCigS4v9w1B0bOEb6/+sWw7GQSor/pSRin/iDLv/pOxMuKq8y/gZRrBTKJlb/HnE170wTJvyBF3zaq4dm/mpRn7/bmw7/tQWlh9OTHv5GvWQi7F6K/HZW5QtJwrb8aUM9ix77Gv+lOgXKz88K/E0eF5c4Fx7+tdYnQL8mgP81irL5QidW/nYv4aEZcxr9jbIUNkbC/v3PeeA51X82/4hjP9gVHsT/1oTXdr2jLP1//LmN2tLY/i90kw7tcyD8AaYPQJY/GP611idAvyaA/fZPjYNuexz8lHXxrSkHNP7lv7dBfmdc/P8Q8y9vX1D93pFv3HIrHPzFkCk5masY/lG+8PoSPxT9U+3DrXM3EP5lJl4SLi7o/PcTL4CRhZT+v9Tz013bHP3wtE8rbls0/GrJF/uNFmz/7pFjtkSHWP0GPh8x1pNc/v2X3igTpxj/AYz4wEanVPy01TaYjocA/1P4xMb0HwD97ZlqsEuGbP0Ey6PnAzsM/qM4o0Xye1D9otpMKZrfAP2/Jdct9EqK/Xa4MZszFyD+aNbJjgoHFPw60B2GhHtM/vRbtB3oYuT/BfT9PlZPRP78YPHVJW8g/zN6KoR0U2j/0Qr3SwsbEP+1WC7ipNso/Y5cPvPQ6uz8uVIm48rfRP3umGH0e98U/3JvSLffWvj+CcuBudbnVP0UWe6rZJc0/NPq+32fbWD/d3lYUaeOkvyJlW/SYj74/W1r5oQchoT+sRbF0FXTXPw==\"},\"shape\":[98],\"dtype\":\"float64\",\"order\":\"little\"}],[\"y\",{\"type\":\"ndarray\",\"array\":{\"type\":\"bytes\",\"data\":\"wanTrfwj0L8ZZpTKJVG7vz6bEHhLxNe/7V/SEBozwL+7fVtmyKzCPw8DV0z1r66/W7ToUJcZu795IAxs8+S9P/qIELB7XNe/9wX/O2E/sz+Z16GyJux2P5QPFgG8M7c/XknAKCKEsD+i7oaRG/21PzzSmHE/JrM/j1lD2hAGo7+vRIFA2OTGv19FMNuKyNe/v35+fmJRwr/tcAPvCDe8v8zUnygNyca/J+MmEdH+zL9mRfbYDJPSv7ZMbVh5Nb6/xqKaadzgqb818D8dUFGiPwFqsPFE7sE/KIVOXFnpkj8KYtwoDdzEv6MF9VbUBNY/cZrZvgTyyT9zlGM00RepP+i1opl+S8K/V/rXdOvGuz8IOcFZnJywvzjaIwn/8rc/C6i/v2xyur/2RXsUQUeRPx6FWSRdzci/ZRyFmqGHqr8WhAy2ckymvxfhCBPKOLu/8OCLgQBMnD/f2+5jXT7ZP0XzzqutXqO/xPKecjEWvb+21OuhM9CyP2bBBJoWhKQ/DjC9OEEhyr/p/JKjtAzOP95YweyMJcY/sQUEzoTnyr/oNqSVX2LVP9/b7mNdPtk/rQJ1jTeM1j9bcbmjmWbWP144uhcM9Jq/bz4KBiBy1L9l5ALzfkPCv3BWfdda6aA/DYMzsrE22D/8NJysttbRP6NPS47y6Yq/z60svIy3sD9P+D3pSPe/P8LIyFzNB9S/+YzH4pHuwT+Tj+hP3HCFP2HECpuPIc6/PQM29zDryD9/t8NwZGC5v3gD/f4qYc4/ffYC5pNjyD/LhU8O5gG+PxkK4ACgE7o/CNrx04fNzr8bUbsDQPqxP6+AdKuo9Mk/83OKillHtz8rKRi9xtnOP2MJh+nn+q+/pK+oI2qPdz8iWAtr9Iacv2Q6/TThnMk/wf5Cogyz1r9IP0jkfmO7P/1HOQqmJMC/BhONaDwVwz+Y1kt9aP6wP3sWxYcWfMW/cQ83Qh8W1L9ZzoGa4BbSv1gZZLO/Rcw/q6zS6P/3wr8XZDLcZAvKv6qwxYUSDGS/jNB32syK2j+G2FlFD82zvw==\"},\"shape\":[98],\"dtype\":\"float64\",\"order\":\"little\"}],[\"word\",{\"type\":\"ndarray\",\"array\":[\"honest\",\"kind\",\"just\",\"brave\",\"compassionate\",\"humble\",\"loyal\",\"generous\",\"fair\",\"benevolent\",\"altruistic\",\"respectful\",\"forgiving\",\"merciful\",\"charitable\",\"selfless\",\"trustworthy\",\"ethical\",\"virtuous\",\"honorable\",\"righteous\",\"upright\",\"integrity\",\"noble\",\"patient\",\"tolerant\",\"gracious\",\"courageous\",\"decent\",\"considerate\",\"diligent\",\"dutiful\",\"faithful\",\"helpful\",\"humane\",\"magnanimous\",\"modest\",\"obedient\",\"principled\",\"responsible\",\"sincere\",\"steadfast\",\"tender\",\"thoughtful\",\"valiant\",\"wholesome\",\"zealous\",\"devoted\",\"reliable\",\"knowledgeable\",\"curious\",\"rational\",\"inquisitive\",\"thoughtful\",\"perceptive\",\"insightful\",\"analytic\",\"logical\",\"critical\",\"skeptical\",\"observant\",\"astute\",\"wise\",\"prudent\",\"reflective\",\"objective\",\"open-minded\",\"methodical\",\"scientific\",\"meticulous\",\"systematic\",\"discerning\",\"intelligent\",\"enlightened\",\"aware\",\"empirical\",\"thorough\",\"diligent\",\"scholarly\",\"erudite\",\"deductive\",\"sensible\",\"reasoned\",\"enquiring\",\"fact-based\",\"comprehensive\",\"accurate\",\"careful\",\"detailed\",\"realistic\",\"balanced\",\"factual\",\"well-informed\",\"impartial\",\"truthful\",\"decisive\",\"attentive\",\"logical-minded\"],\"shape\":[98],\"dtype\":\"object\",\"order\":\"little\"}],[\"category\",{\"type\":\"ndarray\",\"array\":[\"Moral\",\"Moral\",\"Moral\",\"Moral\",\"Moral\",\"Moral\",\"Moral\",\"Moral\",\"Moral\",\"Moral\",\"Moral\",\"Moral\",\"Moral\",\"Moral\",\"Moral\",\"Moral\",\"Moral\",\"Moral\",\"Moral\",\"Moral\",\"Moral\",\"Moral\",\"Moral\",\"Moral\",\"Moral\",\"Moral\",\"Moral\",\"Moral\",\"Moral\",\"Moral\",\"Moral\",\"Moral\",\"Moral\",\"Moral\",\"Moral\",\"Moral\",\"Moral\",\"Moral\",\"Moral\",\"Moral\",\"Moral\",\"Moral\",\"Moral\",\"Moral\",\"Moral\",\"Moral\",\"Moral\",\"Moral\",\"Moral\",\"Epistemic\",\"Epistemic\",\"Epistemic\",\"Epistemic\",\"Epistemic\",\"Epistemic\",\"Epistemic\",\"Epistemic\",\"Epistemic\",\"Epistemic\",\"Epistemic\",\"Epistemic\",\"Epistemic\",\"Epistemic\",\"Epistemic\",\"Epistemic\",\"Epistemic\",\"Epistemic\",\"Epistemic\",\"Epistemic\",\"Epistemic\",\"Epistemic\",\"Epistemic\",\"Epistemic\",\"Epistemic\",\"Epistemic\",\"Epistemic\",\"Epistemic\",\"Epistemic\",\"Epistemic\",\"Epistemic\",\"Epistemic\",\"Epistemic\",\"Epistemic\",\"Epistemic\",\"Epistemic\",\"Epistemic\",\"Epistemic\",\"Epistemic\",\"Epistemic\",\"Epistemic\",\"Epistemic\",\"Epistemic\",\"Epistemic\",\"Epistemic\",\"Epistemic\",\"Epistemic\",\"Epistemic\",\"Epistemic\"],\"shape\":[98],\"dtype\":\"object\",\"order\":\"little\"}]]}}},\"view\":{\"type\":\"object\",\"name\":\"CDSView\",\"id\":\"p1194\",\"attributes\":{\"filter\":{\"type\":\"object\",\"name\":\"AllIndices\",\"id\":\"p1195\"}}},\"glyph\":{\"type\":\"object\",\"name\":\"Scatter\",\"id\":\"p1190\",\"attributes\":{\"x\":{\"type\":\"field\",\"field\":\"x\"},\"y\":{\"type\":\"field\",\"field\":\"y\"},\"size\":{\"type\":\"value\",\"value\":10},\"line_color\":{\"type\":\"field\",\"field\":\"category\",\"transform\":{\"type\":\"object\",\"name\":\"CategoricalColorMapper\",\"id\":\"p1186\",\"attributes\":{\"palette\":[\"#1f77b4\",\"#ff7f0e\"],\"factors\":[\"Moral\",\"Epistemic\"]}}},\"fill_color\":{\"type\":\"field\",\"field\":\"category\",\"transform\":{\"id\":\"p1186\"}},\"fill_alpha\":{\"type\":\"value\",\"value\":0.6},\"hatch_color\":{\"type\":\"field\",\"field\":\"category\",\"transform\":{\"id\":\"p1186\"}}}},\"nonselection_glyph\":{\"type\":\"object\",\"name\":\"Scatter\",\"id\":\"p1191\",\"attributes\":{\"x\":{\"type\":\"field\",\"field\":\"x\"},\"y\":{\"type\":\"field\",\"field\":\"y\"},\"size\":{\"type\":\"value\",\"value\":10},\"line_color\":{\"type\":\"field\",\"field\":\"category\",\"transform\":{\"id\":\"p1186\"}},\"line_alpha\":{\"type\":\"value\",\"value\":0.1},\"fill_color\":{\"type\":\"field\",\"field\":\"category\",\"transform\":{\"id\":\"p1186\"}},\"fill_alpha\":{\"type\":\"value\",\"value\":0.1},\"hatch_color\":{\"type\":\"field\",\"field\":\"category\",\"transform\":{\"id\":\"p1186\"}},\"hatch_alpha\":{\"type\":\"value\",\"value\":0.1}}},\"muted_glyph\":{\"type\":\"object\",\"name\":\"Scatter\",\"id\":\"p1192\",\"attributes\":{\"x\":{\"type\":\"field\",\"field\":\"x\"},\"y\":{\"type\":\"field\",\"field\":\"y\"},\"size\":{\"type\":\"value\",\"value\":10},\"line_color\":{\"type\":\"field\",\"field\":\"category\",\"transform\":{\"id\":\"p1186\"}},\"line_alpha\":{\"type\":\"value\",\"value\":0.2},\"fill_color\":{\"type\":\"field\",\"field\":\"category\",\"transform\":{\"id\":\"p1186\"}},\"fill_alpha\":{\"type\":\"value\",\"value\":0.2},\"hatch_color\":{\"type\":\"field\",\"field\":\"category\",\"transform\":{\"id\":\"p1186\"}},\"hatch_alpha\":{\"type\":\"value\",\"value\":0.2}}}}}],\"toolbar\":{\"type\":\"object\",\"name\":\"Toolbar\",\"id\":\"p1164\",\"attributes\":{\"tools\":[{\"type\":\"object\",\"name\":\"HoverTool\",\"id\":\"p1154\",\"attributes\":{\"renderers\":\"auto\",\"tooltips\":[[\"Word\",\"@word\"],[\"Category\",\"@category\"]]}},{\"type\":\"object\",\"name\":\"PanTool\",\"id\":\"p1177\"},{\"type\":\"object\",\"name\":\"WheelZoomTool\",\"id\":\"p1178\",\"attributes\":{\"renderers\":\"auto\"}},{\"type\":\"object\",\"name\":\"BoxZoomTool\",\"id\":\"p1179\",\"attributes\":{\"overlay\":{\"type\":\"object\",\"name\":\"BoxAnnotation\",\"id\":\"p1180\",\"attributes\":{\"syncable\":false,\"level\":\"overlay\",\"visible\":false,\"left\":{\"type\":\"number\",\"value\":\"nan\"},\"right\":{\"type\":\"number\",\"value\":\"nan\"},\"top\":{\"type\":\"number\",\"value\":\"nan\"},\"bottom\":{\"type\":\"number\",\"value\":\"nan\"},\"left_units\":\"canvas\",\"right_units\":\"canvas\",\"top_units\":\"canvas\",\"bottom_units\":\"canvas\",\"line_color\":\"black\",\"line_alpha\":1.0,\"line_width\":2,\"line_dash\":[4,4],\"fill_color\":\"lightgrey\",\"fill_alpha\":0.5}}}},{\"type\":\"object\",\"name\":\"ResetTool\",\"id\":\"p1185\"}]}},\"left\":[{\"type\":\"object\",\"name\":\"LinearAxis\",\"id\":\"p1172\",\"attributes\":{\"ticker\":{\"type\":\"object\",\"name\":\"BasicTicker\",\"id\":\"p1173\",\"attributes\":{\"mantissas\":[1,2,5]}},\"formatter\":{\"type\":\"object\",\"name\":\"BasicTickFormatter\",\"id\":\"p1174\"},\"axis_label\":\"PCA 2\",\"major_label_policy\":{\"type\":\"object\",\"name\":\"AllLabels\",\"id\":\"p1175\"}}}],\"below\":[{\"type\":\"object\",\"name\":\"LinearAxis\",\"id\":\"p1167\",\"attributes\":{\"ticker\":{\"type\":\"object\",\"name\":\"BasicTicker\",\"id\":\"p1168\",\"attributes\":{\"mantissas\":[1,2,5]}},\"formatter\":{\"type\":\"object\",\"name\":\"BasicTickFormatter\",\"id\":\"p1169\"},\"axis_label\":\"PCA 1\",\"major_label_policy\":{\"type\":\"object\",\"name\":\"AllLabels\",\"id\":\"p1170\"}}}],\"center\":[{\"type\":\"object\",\"name\":\"Grid\",\"id\":\"p1171\",\"attributes\":{\"axis\":{\"id\":\"p1167\"}}},{\"type\":\"object\",\"name\":\"Grid\",\"id\":\"p1176\",\"attributes\":{\"dimension\":1,\"axis\":{\"id\":\"p1172\"}}},{\"type\":\"object\",\"name\":\"Legend\",\"id\":\"p1196\",\"attributes\":{\"location\":\"top_left\",\"title\":\"Category\",\"items\":[{\"type\":\"object\",\"name\":\"LegendItem\",\"id\":\"p1197\",\"attributes\":{\"label\":{\"type\":\"field\",\"field\":\"category\"},\"renderers\":[{\"id\":\"p1193\"}]}}]}}]}}]}};\n  const render_items = [{\"docid\":\"7224fdd3-d32c-483e-99f0-0dd62345cb9e\",\"roots\":{\"p1155\":\"be841e66-311d-4618-adc1-1dc72f7979d5\"},\"root_ids\":[\"p1155\"],\"notebook_comms_target\":\"p1198\"}];\n  void root.Bokeh.embed.embed_items_notebook(docs_json, render_items);\n  }\n  if (root.Bokeh !== undefined) {\n    embed_document(root);\n  } else {\n    let attempts = 0;\n    const timer = setInterval(function(root) {\n      if (root.Bokeh !== undefined) {\n        clearInterval(timer);\n        embed_document(root);\n      } else {\n        attempts++;\n        if (attempts > 100) {\n          clearInterval(timer);\n          console.log(\"Bokeh: ERROR: Unable to run BokehJS code because BokehJS library is missing\");\n        }\n      }\n    }, 10, root)\n  }\n})(window);",
      "application/vnd.bokehjs_exec.v0+json": ""
     },
     "metadata": {
      "application/vnd.bokehjs_exec.v0+json": {
       "id": "p1155"
      }
     },
     "output_type": "display_data"
    }
   ],
   "source": [
    "# Plot the PCA loadings\n",
    "plot_pca_interactive(df2, 'Adjective', 'Category', ['PCA_1', 'PCA_2'])\n"
   ]
  },
  {
   "cell_type": "markdown",
   "id": "1c95a342",
   "metadata": {},
   "source": [
    "The graph clearly shows that there are semantic differences between epistemic and moral virtues, with very little overlap. Epistemic and moral virtues are indeed semantically distinct."
   ]
  },
  {
   "cell_type": "markdown",
   "id": "1469ad1f",
   "metadata": {},
   "source": [
    "## Next steps\n",
    "\n",
    "- Better corpus of epistemic and moral terms\n",
    "- Add quantitative metrics\n",
    "- Compare conceptual, semantic, and psychological distinctions \n",
    "- Relate to existing literature on epistemic and moral virtues."
   ]
  },
  {
   "cell_type": "markdown",
   "id": "4a81267a",
   "metadata": {},
   "source": []
  }
 ],
 "metadata": {
  "kernelspec": {
   "display_name": "Python 3 (ipykernel)",
   "language": "python",
   "name": "python3"
  },
  "language_info": {
   "codemirror_mode": {
    "name": "ipython",
    "version": 3
   },
   "file_extension": ".py",
   "mimetype": "text/x-python",
   "name": "python",
   "nbconvert_exporter": "python",
   "pygments_lexer": "ipython3",
   "version": "3.11.3"
  }
 },
 "nbformat": 4,
 "nbformat_minor": 5
}
